{
 "cells": [
  {
   "metadata": {
    "ExecuteTime": {
     "end_time": "2025-04-04T21:37:51.205133Z",
     "start_time": "2025-04-04T21:37:50.449513Z"
    }
   },
   "cell_type": "code",
   "source": "!pip install mido",
   "id": "c601772f75fa15c6",
   "outputs": [
    {
     "name": "stdout",
     "output_type": "stream",
     "text": [
      "Requirement already satisfied: mido in c:\\users\\elyas\\workspace\\pycharm\\cpeg-344\\.venv\\lib\\site-packages (1.3.3)\n",
      "Requirement already satisfied: packaging in c:\\users\\elyas\\workspace\\pycharm\\cpeg-344\\.venv\\lib\\site-packages (from mido) (24.2)\n"
     ]
    },
    {
     "name": "stderr",
     "output_type": "stream",
     "text": [
      "\n",
      "[notice] A new release of pip is available: 25.0 -> 25.0.1\n",
      "[notice] To update, run: python.exe -m pip install --upgrade pip\n"
     ]
    }
   ],
   "execution_count": 98
  },
  {
   "metadata": {
    "ExecuteTime": {
     "end_time": "2025-04-29T02:00:06.764237Z",
     "start_time": "2025-04-29T02:00:05.765616Z"
    }
   },
   "cell_type": "code",
   "source": [
    "import mido\n",
    "import matplotlib.pyplot as plt\n",
    "import pandas as pd\n",
    "\n",
    "# Load MIDI file\n",
    "mid = mido.MidiFile(\"Shop Melody.mid\")\n",
    "\n",
    "# Extract note-on and note-off events\n",
    "notes_data = []\n",
    "for track in mid.tracks:\n",
    "    time = 0\n",
    "    ongoing_notes = {}\n",
    "\n",
    "    for msg in track:\n",
    "        time += msg.time\n",
    "        if msg.type == 'note_on':\n",
    "            if msg.velocity > 0:\n",
    "                ongoing_notes[msg.note] = time  # Note started\n",
    "            else:\n",
    "                if msg.note in ongoing_notes:\n",
    "                    start = ongoing_notes.pop(msg.note)\n",
    "                    duration = time - start\n",
    "                    notes_data.append((start, msg.note, duration))\n",
    "        elif msg.type == 'note_off':\n",
    "            if msg.note in ongoing_notes:\n",
    "                start = ongoing_notes.pop(msg.note)\n",
    "                duration = time - start\n",
    "                notes_data.append((start, msg.note, duration))\n",
    "\n",
    "# Convert to DataFrame\n",
    "df = pd.DataFrame(notes_data, columns=[\"Start Time\", \"Note\", \"Duration\"])\n",
    "\n",
    "# MIDI note number to name\n",
    "note_names = ['C', 'C#', 'D', 'D#', 'E', 'F', 'F#', 'G', 'G#', 'A', 'A#', 'B']\n",
    "def note_number_to_name(n):\n",
    "    return f\"{note_names[n % 12]}{n // 12}\"\n",
    "\n",
    "df[\"Note Name\"] = df[\"Note\"].apply(note_number_to_name)\n",
    "\n",
    "# Convert ticks to milliseconds\n",
    "tick_to_ms = 500 / mid.ticks_per_beat\n",
    "df[\"Start Time (ms)\"] = df[\"Start Time\"] * tick_to_ms\n",
    "df[\"Duration (ms)\"] = df[\"Duration\"] * tick_to_ms\n",
    "df[\"End Time (ms)\"] = df[\"Start Time (ms)\"] + df[\"Duration (ms)\"]\n",
    "\n",
    "# Sort by start time\n",
    "df = df.sort_values(by=\"Start Time (ms)\").reset_index(drop=True)\n",
    "\n",
    "# Calculate rests between notes in 50ms units\n",
    "df[\"Rest Before (ms)\"] = df[\"Start Time (ms)\"].diff().fillna(0)\n",
    "df[\"Rest Before (ms)\"] = df[\"Rest Before (ms)\"] - df[\"Duration (ms)\"].shift(1).fillna(0)\n",
    "df[\"Rest Before (ms)\"] = df[\"Rest Before (ms)\"].apply(lambda x: max(0, x))\n",
    "df[\"Rest Before (ms)\"] = df[\"Rest Before (ms)\"].shift(-1).fillna(0)\n",
    "df[\"Rest Units\"] = (df[\"Rest Before (ms)\"] / 10).round().astype(int)\n",
    "df[\"Duration Units\"] = (df[\"Duration (ms)\"] / 10).round().astype(int)\n",
    "\n",
    "# Add frequency and period\n",
    "# MIDI note to frequency: f = 440 * 2^((n - 69)/12)\n",
    "df[\"Frequency (Hz)\"] = df[\"Note\"].apply(lambda n: 440 * 2 ** ((n - 69) / 12))\n",
    "df[\"Period (us)\"] = df[\"Frequency (Hz)\"].apply(lambda f: round(1_000_000 / f, 5))\n",
    "\n",
    "# Add preload value for 8051 timer (assuming 11.059200 MHz clock)\n",
    "def timer_preload(frequency_hz, cpu_freq=11_059_200):\n",
    "    toggle_period = 1 / (2 * frequency_hz)\n",
    "    cycles = toggle_period * cpu_freq\n",
    "    preload = int(65536 - cycles)\n",
    "    return preload\n",
    "\n",
    "df[\"Timer Preload\"] = df[\"Frequency (Hz)\"].apply(timer_preload)\n",
    "\n",
    "# Plot horizontal bars\n",
    "plt.figure(figsize=(14, 6))\n",
    "for _, row in df.iterrows():\n",
    "    plt.hlines(row[\"Note\"], row[\"Start Time (ms)\"], row[\"End Time (ms)\"], colors='black', linewidth=3)\n",
    "\n",
    "plt.title(\"MIDI Note Chart (Piano Roll Style)\")\n",
    "plt.xlabel(\"Time (ms)\")\n",
    "plt.ylabel(\"MIDI Note Number\")\n",
    "plt.grid(True)\n",
    "plt.tight_layout()\n",
    "plt.show()"
   ],
   "id": "227180bf764f6b34",
   "outputs": [
    {
     "data": {
      "text/plain": [
       "<Figure size 1400x600 with 1 Axes>"
      ],
      "image/png": "[encoded data removed]"
     },
     "metadata": {},
     "output_type": "display_data"
    }
   ],
   "execution_count": 1
  },
  {
   "metadata": {
    "ExecuteTime": {
     "end_time": "2025-04-29T02:00:09.571316Z",
     "start_time": "2025-04-29T02:00:09.544725Z"
    }
   },
   "cell_type": "code",
   "source": [
    "df['Timer Preload (hex)'] = df['Timer Preload'].apply(lambda x: f\"{x:04X}\")\n",
    "df['Duration Units (hex)'] = df['Duration Units'].apply(lambda x: f\"{x:02X}\")\n",
    "df['Rest Units (hex)'] = df['Rest Units'].apply(lambda x: f\"{x:02X}\")\n",
    "\n",
    "\n",
    "# Check if Timer Preload is within 0-65535\n",
    "assert df['Timer Preload'].between(0, 65535).all(), \"Timer Preload values are out of range!\"\n",
    "\n",
    "df[[\n",
    "    \"Note Name\",\n",
    "    \"Timer Preload (hex)\",\n",
    "    \"Duration Units (hex)\",\n",
    "    \"Rest Units (hex)\",\n",
    "]]\n",
    "\n"
   ],
   "id": "129c69ded0368608",
   "outputs": [
    {
     "data": {
      "text/plain": [
       "   Note Name Timer Preload (hex) Duration Units (hex) Rest Units (hex)\n",
       "0        D#7                EEA4                   32               19\n",
       "1        D#6                DD49                   0C               00\n",
       "2        G#6                E5FE                   0C               00\n",
       "3        A#6                E8D5                   06               13\n",
       "4         C7                EB5C                   06               13\n",
       "..       ...                 ...                  ...              ...\n",
       "86       D#7                EEA4                   19               00\n",
       "87        F7                F089                   96               00\n",
       "88        C7                EB5C                   19               00\n",
       "89       G#6                E5FE                   19               00\n",
       "90       A#6                E8D5                   96               00\n",
       "\n",
       "[91 rows x 4 columns]"
      ],
      "text/html": [
       "<div>\n",
       "<style scoped>\n",
       "    .dataframe tbody tr th:only-of-type {\n",
       "        vertical-align: middle;\n",
       "    }\n",
       "\n",
       "    .dataframe tbody tr th {\n",
       "        vertical-align: top;\n",
       "    }\n",
       "\n",
       "    .dataframe thead th {\n",
       "        text-align: right;\n",
       "    }\n",
       "</style>\n",
       "<table border=\"1\" class=\"dataframe\">\n",
       "  <thead>\n",
       "    <tr style=\"text-align: right;\">\n",
       "      <th></th>\n",
       "      <th>Note Name</th>\n",
       "      <th>Timer Preload (hex)</th>\n",
       "      <th>Duration Units (hex)</th>\n",
       "      <th>Rest Units (hex)</th>\n",
       "    </tr>\n",
       "  </thead>\n",
       "  <tbody>\n",
       "    <tr>\n",
       "      <th>0</th>\n",
       "      <td>D#7</td>\n",
       "      <td>EEA4</td>\n",
       "      <td>32</td>\n",
       "      <td>19</td>\n",
       "    </tr>\n",
       "    <tr>\n",
       "      <th>1</th>\n",
       "      <td>D#6</td>\n",
       "      <td>DD49</td>\n",
       "      <td>0C</td>\n",
       "      <td>00</td>\n",
       "    </tr>\n",
       "    <tr>\n",
       "      <th>2</th>\n",
       "      <td>G#6</td>\n",
       "      <td>E5FE</td>\n",
       "      <td>0C</td>\n",
       "      <td>00</td>\n",
       "    </tr>\n",
       "    <tr>\n",
       "      <th>3</th>\n",
       "      <td>A#6</td>\n",
       "      <td>E8D5</td>\n",
       "      <td>06</td>\n",
       "      <td>13</td>\n",
       "    </tr>\n",
       "    <tr>\n",
       "      <th>4</th>\n",
       "      <td>C7</td>\n",
       "      <td>EB5C</td>\n",
       "      <td>06</td>\n",
       "      <td>13</td>\n",
       "    </tr>\n",
       "    <tr>\n",
       "      <th>...</th>\n",
       "      <td>...</td>\n",
       "      <td>...</td>\n",
       "      <td>...</td>\n",
       "      <td>...</td>\n",
       "    </tr>\n",
       "    <tr>\n",
       "      <th>86</th>\n",
       "      <td>D#7</td>\n",
       "      <td>EEA4</td>\n",
       "      <td>19</td>\n",
       "      <td>00</td>\n",
       "    </tr>\n",
       "    <tr>\n",
       "      <th>87</th>\n",
       "      <td>F7</td>\n",
       "      <td>F089</td>\n",
       "      <td>96</td>\n",
       "      <td>00</td>\n",
       "    </tr>\n",
       "    <tr>\n",
       "      <th>88</th>\n",
       "      <td>C7</td>\n",
       "      <td>EB5C</td>\n",
       "      <td>19</td>\n",
       "      <td>00</td>\n",
       "    </tr>\n",
       "    <tr>\n",
       "      <th>89</th>\n",
       "      <td>G#6</td>\n",
       "      <td>E5FE</td>\n",
       "      <td>19</td>\n",
       "      <td>00</td>\n",
       "    </tr>\n",
       "    <tr>\n",
       "      <th>90</th>\n",
       "      <td>A#6</td>\n",
       "      <td>E8D5</td>\n",
       "      <td>96</td>\n",
       "      <td>00</td>\n",
       "    </tr>\n",
       "  </tbody>\n",
       "</table>\n",
       "<p>91 rows × 4 columns</p>\n",
       "</div>"
      ]
     },
     "execution_count": 2,
     "metadata": {},
     "output_type": "execute_result"
    }
   ],
   "execution_count": 2
  },
  {
   "metadata": {
    "ExecuteTime": {
     "end_time": "2025-04-29T02:00:12.789442Z",
     "start_time": "2025-04-29T02:00:12.766013Z"
    }
   },
   "cell_type": "code",
   "source": [
    "notes_mapping = ''\n",
    "\n",
    "for i, row in df.iterrows():\n",
    "    notes_mapping += f'DB 0{row[\"Timer Preload (hex)\"][:2]}H, 0{row[\"Timer Preload (hex)\"][2:]}H\\n'\n",
    "# print(notes_mapping)\n",
    "print(notes_mapping.count('\\n'))\n",
    "\n",
    "with open('notes_mapping.txt', 'w') as f:\n",
    "    f.write(notes_mapping)\n"
   ],
   "id": "a5421595fd27ab5b",
   "outputs": [
    {
     "name": "stdout",
     "output_type": "stream",
     "text": [
      "91\n"
     ]
    }
   ],
   "execution_count": 3
  },
  {
   "metadata": {
    "ExecuteTime": {
     "end_time": "2025-04-29T02:00:14.908397Z",
     "start_time": "2025-04-29T02:00:14.899755Z"
    }
   },
   "cell_type": "code",
   "source": [
    "durations_mapping = ''\n",
    "\n",
    "for i, row in df.iterrows():\n",
    "    durations_mapping += f'DB 0{row[\"Duration Units (hex)\"]}H, 0{row[\"Rest Units (hex)\"]}H\\n'\n",
    "\n",
    "# print(durations_mapping)\n",
    "print(durations_mapping.count('\\n'))\n",
    "\n",
    "with open('durations_mapping.txt', 'w') as f:\n",
    "    f.write(durations_mapping)"
   ],
   "id": "b0ffb26668ec9943",
   "outputs": [
    {
     "name": "stdout",
     "output_type": "stream",
     "text": [
      "91\n"
     ]
    }
   ],
   "execution_count": 4
  },
  {
   "metadata": {
    "ExecuteTime": {
     "end_time": "2025-04-05T00:55:12.055375Z",
     "start_time": "2025-04-05T00:55:12.041373Z"
    }
   },
   "cell_type": "code",
   "source": [
    "# max duration\n",
    "max_duration = df[\"Duration Units\"].max()\n",
    "max_duration\n"
   ],
   "id": "ffdda26332e35c1e",
   "outputs": [
    {
     "data": {
      "text/plain": [
       "np.int64(150)"
      ]
     },
     "execution_count": 114,
     "metadata": {},
     "output_type": "execute_result"
    }
   ],
   "execution_count": 114
  },
  {
   "metadata": {},
   "cell_type": "code",
   "outputs": [],
   "execution_count": null,
   "source": "",
   "id": "b07f1e78dbd0d8b7"
  }
 ],
 "metadata": {
  "kernelspec": {
   "display_name": "Python 3",
   "language": "python",
   "name": "python3"
  },
  "language_info": {
   "codemirror_mode": {
    "name": "ipython",
    "version": 2
   },
   "file_extension": ".py",
   "mimetype": "text/x-python",
   "name": "python",
   "nbconvert_exporter": "python",
   "pygments_lexer": "ipython2",
   "version": "2.7.6"
  }
 },
 "nbformat": 4,
 "nbformat_minor": 5
}
